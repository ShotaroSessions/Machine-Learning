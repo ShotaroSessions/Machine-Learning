{
 "cells": [
  {
   "cell_type": "code",
   "execution_count": 1,
   "metadata": {},
   "outputs": [],
   "source": [
    "# Import tensorflow and Keras\n",
    "import tensorflow as tf\n",
    "from tensorflow import keras\n",
    "\n",
    "# Import support libraries for plotting\n",
    "import matplotlib.pyplot as plt"
   ]
  },
  {
   "cell_type": "code",
   "execution_count": 2,
   "metadata": {},
   "outputs": [],
   "source": [
    "# Load MNIST Dataset\n",
    "from keras.datasets import mnist\n",
    "\n",
    "(x_train, y_train), (x_test, y_test) = mnist.load_data()\n"
   ]
  },
  {
   "cell_type": "code",
   "execution_count": 3,
   "metadata": {},
   "outputs": [
    {
     "data": {
      "image/png": "[encoded data removed]",
      "text/plain": [
       "<Figure size 432x288 with 2 Axes>"
      ]
     },
     "metadata": {
      "needs_background": "light"
     },
     "output_type": "display_data"
    }
   ],
   "source": [
    "# Print the first element in x_train as an image\n",
    "plt.figure()\n",
    "plt.imshow(x_train[0])\n",
    "plt.colorbar()\n",
    "plt.grid(False)\n",
    "plt.show()"
   ]
  },
  {
   "cell_type": "code",
   "execution_count": 4,
   "metadata": {},
   "outputs": [
    {
     "data": {
      "text/plain": [
       "5"
      ]
     },
     "execution_count": 4,
     "metadata": {},
     "output_type": "execute_result"
    }
   ],
   "source": [
    "# Print the first element in y_train\n",
    "y_train[0]"
   ]
  },
  {
   "cell_type": "code",
   "execution_count": 5,
   "metadata": {},
   "outputs": [],
   "source": [
    "# Define 8 layers\n",
    "model = keras.Sequential([\n",
    "    keras.layers.Flatten(input_shape=(28, 28)),\n",
    "    keras.layers.Dense(512, activation='relu'),\n",
    "    keras.layers.Dense(216, activation='relu'),\n",
    "    keras.layers.Dense(128, activation='relu'),\n",
    "    keras.layers.Dense(64, activation='relu'),\n",
    "    keras.layers.Dense(32, activation='relu'),\n",
    "    keras.layers.Dense(16, activation='relu'),\n",
    "    keras.layers.Dense(10, activation='softmax')\n",
    "])"
   ]
  },
  {
   "cell_type": "code",
   "execution_count": 6,
   "metadata": {},
   "outputs": [],
   "source": [
    "# Compile the model\n",
    "model.compile(loss='sparse_categorical_crossentropy',\n",
    "              optimizer='adam',\n",
    "              metrics=['accuracy'])"
   ]
  },
  {
   "cell_type": "code",
   "execution_count": 7,
   "metadata": {
    "scrolled": false
   },
   "outputs": [
    {
     "name": "stdout",
     "output_type": "stream",
     "text": [
      "Model: \"sequential\"\n",
      "_________________________________________________________________\n",
      "Layer (type)                 Output Shape              Param #   \n",
      "=================================================================\n",
      "flatten (Flatten)            (None, 784)               0         \n",
      "_________________________________________________________________\n",
      "dense (Dense)                (None, 512)               401920    \n",
      "_________________________________________________________________\n",
      "dense_1 (Dense)              (None, 216)               110808    \n",
      "_________________________________________________________________\n",
      "dense_2 (Dense)              (None, 128)               27776     \n",
      "_________________________________________________________________\n",
      "dense_3 (Dense)              (None, 64)                8256      \n",
      "_________________________________________________________________\n",
      "dense_4 (Dense)              (None, 32)                2080      \n",
      "_________________________________________________________________\n",
      "dense_5 (Dense)              (None, 16)                528       \n",
      "_________________________________________________________________\n",
      "dense_6 (Dense)              (None, 10)                170       \n",
      "=================================================================\n",
      "Total params: 551,538\n",
      "Trainable params: 551,538\n",
      "Non-trainable params: 0\n",
      "_________________________________________________________________\n"
     ]
    }
   ],
   "source": [
    "model.summary()"
   ]
  },
  {
   "cell_type": "code",
   "execution_count": 8,
   "metadata": {},
   "outputs": [
    {
     "name": "stdout",
     "output_type": "stream",
     "text": [
      "Epoch 1/20\n",
      "4000/4000 [==============================] - 7s 2ms/step - loss: 0.4698 - accuracy: 0.8854\n",
      "Epoch 2/20\n",
      "4000/4000 [==============================] - 7s 2ms/step - loss: 0.2101 - accuracy: 0.9474\n",
      "Epoch 3/20\n",
      "4000/4000 [==============================] - 7s 2ms/step - loss: 0.1562 - accuracy: 0.9608\n",
      "Epoch 4/20\n",
      "4000/4000 [==============================] - 7s 2ms/step - loss: 0.1251 - accuracy: 0.9692\n",
      "Epoch 5/20\n",
      "4000/4000 [==============================] - 7s 2ms/step - loss: 0.1064 - accuracy: 0.9743\n",
      "Epoch 6/20\n",
      "4000/4000 [==============================] - 7s 2ms/step - loss: 0.0967 - accuracy: 0.9775\n",
      "Epoch 7/20\n",
      "4000/4000 [==============================] - 7s 2ms/step - loss: 0.0882 - accuracy: 0.9797\n",
      "Epoch 8/20\n",
      "4000/4000 [==============================] - 7s 2ms/step - loss: 0.0811 - accuracy: 0.9810\n",
      "Epoch 9/20\n",
      "4000/4000 [==============================] - 7s 2ms/step - loss: 0.0700 - accuracy: 0.9837\n",
      "Epoch 10/20\n",
      "4000/4000 [==============================] - 7s 2ms/step - loss: 0.0685 - accuracy: 0.9844\n",
      "Epoch 11/20\n",
      "4000/4000 [==============================] - 7s 2ms/step - loss: 0.0579 - accuracy: 0.9869\n",
      "Epoch 12/20\n",
      "4000/4000 [==============================] - 7s 2ms/step - loss: 0.0608 - accuracy: 0.9868\n",
      "Epoch 13/20\n",
      "4000/4000 [==============================] - 7s 2ms/step - loss: 0.0533 - accuracy: 0.9871\n",
      "Epoch 14/20\n",
      "4000/4000 [==============================] - 7s 2ms/step - loss: 0.0540 - accuracy: 0.9877\n",
      "Epoch 15/20\n",
      "4000/4000 [==============================] - 7s 2ms/step - loss: 0.0468 - accuracy: 0.9892\n",
      "Epoch 16/20\n",
      "4000/4000 [==============================] - 7s 2ms/step - loss: 0.0484 - accuracy: 0.9900\n",
      "Epoch 17/20\n",
      "4000/4000 [==============================] - 7s 2ms/step - loss: 0.0495 - accuracy: 0.9890\n",
      "Epoch 18/20\n",
      "4000/4000 [==============================] - 7s 2ms/step - loss: 0.0488 - accuracy: 0.9897\n",
      "Epoch 19/20\n",
      "4000/4000 [==============================] - 7s 2ms/step - loss: 0.0417 - accuracy: 0.9907\n",
      "Epoch 20/20\n",
      "4000/4000 [==============================] - 7s 2ms/step - loss: 0.0454 - accuracy: 0.9905\n"
     ]
    }
   ],
   "source": [
    "history = model.fit(x_train, y_train, epochs=20, batch_size=15)"
   ]
  },
  {
   "cell_type": "code",
   "execution_count": 9,
   "metadata": {},
   "outputs": [
    {
     "data": {
      "image/png": "[encoded data removed]",
      "text/plain": [
       "<Figure size 432x288 with 1 Axes>"
      ]
     },
     "metadata": {
      "needs_background": "light"
     },
     "output_type": "display_data"
    },
    {
     "data": {
      "image/png": "[encoded data removed]",
      "text/plain": [
       "<Figure size 432x288 with 1 Axes>"
      ]
     },
     "metadata": {
      "needs_background": "light"
     },
     "output_type": "display_data"
    }
   ],
   "source": [
    "# Plot training & validation accuracy values\n",
    "plt.plot(history.history['accuracy'])\n",
    "plt.title('Model accuracy')\n",
    "plt.ylabel('Accuracy')\n",
    "plt.xlabel('Epoch')\n",
    "plt.legend(['Train'], loc='upper left')\n",
    "plt.show()\n",
    "\n",
    "# Plot training & validation loss values\n",
    "plt.plot(history.history['loss'])\n",
    "plt.title('Model loss')\n",
    "plt.ylabel('Loss')\n",
    "plt.xlabel('Epoch')\n",
    "plt.legend(['Train'], loc='upper left')\n",
    "plt.show()"
   ]
  },
  {
   "cell_type": "code",
   "execution_count": 10,
   "metadata": {},
   "outputs": [
    {
     "name": "stdout",
     "output_type": "stream",
     "text": [
      "Test accuracy: 0.947700023651123\n",
      "Test loss: 0.24302317202091217\n"
     ]
    }
   ],
   "source": [
    "test_loss, test_acc = model.evaluate(x_test,  y_test, verbose=0)\n",
    "\n",
    "print('Test accuracy:', test_acc)\n",
    "print('Test loss:', test_loss)"
   ]
  },
  {
   "cell_type": "code",
   "execution_count": null,
   "metadata": {},
   "outputs": [],
   "source": []
  }
 ],
 "metadata": {
  "kernelspec": {
   "display_name": "Python 3",
   "language": "python",
   "name": "python3"
  },
  "language_info": {
   "codemirror_mode": {
    "name": "ipython",
    "version": 3
   },
   "file_extension": ".py",
   "mimetype": "text/x-python",
   "name": "python",
   "nbconvert_exporter": "python",
   "pygments_lexer": "ipython3",
   "version": "3.8.3"
  }
 },
 "nbformat": 4,
 "nbformat_minor": 4
}
