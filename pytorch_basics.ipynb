{
  "nbformat": 4,
  "nbformat_minor": 0,
  "metadata": {
    "colab": {
      "name": "pytorch basics.ipynb",
      "provenance": [],
      "authorship_tag": "ABX9TyP7BVEBYOEvRHOuQwDdoKDI",
      "include_colab_link": true
    },
    "kernelspec": {
      "name": "python3",
      "display_name": "Python 3"
    }
  },
  "cells": [
    {
      "cell_type": "markdown",
      "metadata": {
        "id": "view-in-github",
        "colab_type": "text"
      },
      "source": [
        "<a href=\"https://colab.research.google.com/github/ShotaroSessions/Machine-Learning/blob/master/pytorch_basics.ipynb\" target=\"_parent\"><img src=\"https://colab.research.google.com/assets/colab-badge.svg\" alt=\"Open In Colab\"/></a>"
      ]
    },
    {
      "cell_type": "code",
      "metadata": {
        "id": "DOpsLFcoEsUi",
        "colab_type": "code",
        "colab": {}
      },
      "source": [
        "from __future__ import print_function\n",
        "import torch"
      ],
      "execution_count": 1,
      "outputs": []
    },
    {
      "cell_type": "markdown",
      "metadata": {
        "id": "4xfSgUqOFM2x",
        "colab_type": "text"
      },
      "source": [
        "The initial values of a tensor will be whatever values were in the allocated memory at the time of declaration. Creates a 5 by 3 matrix:"
      ]
    },
    {
      "cell_type": "code",
      "metadata": {
        "id": "oHTAZX2mE9N4",
        "colab_type": "code",
        "colab": {
          "base_uri": "https://localhost:8080/",
          "height": 102
        },
        "outputId": "2324fc0d-c2b5-4408-90c3-7373492993fa"
      },
      "source": [
        "x = torch.empty(5, 3)\n",
        "print(x)"
      ],
      "execution_count": 2,
      "outputs": [
        {
          "output_type": "stream",
          "text": [
            "tensor([[4.5983e-36, 0.0000e+00, 3.3631e-44],\n",
            "        [0.0000e+00,        nan, 0.0000e+00],\n",
            "        [1.1578e+27, 1.1362e+30, 7.1547e+22],\n",
            "        [4.5828e+30, 1.2121e+04, 7.1846e+22],\n",
            "        [9.2198e-39, 7.0374e+22, 0.0000e+00]])\n"
          ],
          "name": "stdout"
        }
      ]
    },
    {
      "cell_type": "markdown",
      "metadata": {
        "id": "BSfXcJaTGQqR",
        "colab_type": "text"
      },
      "source": [
        "Randomly initialized matrix:"
      ]
    },
    {
      "cell_type": "code",
      "metadata": {
        "id": "llsBCLaQF0S2",
        "colab_type": "code",
        "colab": {
          "base_uri": "https://localhost:8080/",
          "height": 102
        },
        "outputId": "baf7e976-849e-4044-a51a-1a9e5d9a7201"
      },
      "source": [
        "x = torch.rand(5,3)\n",
        "print(x)"
      ],
      "execution_count": 3,
      "outputs": [
        {
          "output_type": "stream",
          "text": [
            "tensor([[0.5195, 0.0145, 0.3172],\n",
            "        [0.2620, 0.0601, 0.2663],\n",
            "        [0.2359, 0.2960, 0.2440],\n",
            "        [0.2423, 0.9096, 0.2418],\n",
            "        [0.1227, 0.4096, 0.7688]])\n"
          ],
          "name": "stdout"
        }
      ]
    },
    {
      "cell_type": "markdown",
      "metadata": {
        "id": "Cm-rT9E8GYQA",
        "colab_type": "text"
      },
      "source": [
        "Matrix of zeros of dtype long:"
      ]
    },
    {
      "cell_type": "code",
      "metadata": {
        "id": "jZ_E00STGIX2",
        "colab_type": "code",
        "colab": {
          "base_uri": "https://localhost:8080/",
          "height": 102
        },
        "outputId": "780a62ea-3f2d-4725-e82e-20b79534e08a"
      },
      "source": [
        "x = torch.zeros(5, 3, dtype=torch.long)\n",
        "print(x)"
      ],
      "execution_count": 4,
      "outputs": [
        {
          "output_type": "stream",
          "text": [
            "tensor([[0, 0, 0],\n",
            "        [0, 0, 0],\n",
            "        [0, 0, 0],\n",
            "        [0, 0, 0],\n",
            "        [0, 0, 0]])\n"
          ],
          "name": "stdout"
        }
      ]
    },
    {
      "cell_type": "markdown",
      "metadata": {
        "id": "Hdf3-RXhG-_i",
        "colab_type": "text"
      },
      "source": [
        "Directly from data:"
      ]
    },
    {
      "cell_type": "code",
      "metadata": {
        "id": "4sOVyTH1HD_V",
        "colab_type": "code",
        "colab": {
          "base_uri": "https://localhost:8080/",
          "height": 34
        },
        "outputId": "18cab540-5f73-4c5e-bb4d-9200e40b3624"
      },
      "source": [
        "x = torch.tensor([5.5, 3])\n",
        "print(x)"
      ],
      "execution_count": 5,
      "outputs": [
        {
          "output_type": "stream",
          "text": [
            "tensor([5.5000, 3.0000])\n"
          ],
          "name": "stdout"
        }
      ]
    },
    {
      "cell_type": "markdown",
      "metadata": {
        "id": "3JfTi1hCHLBq",
        "colab_type": "text"
      },
      "source": [
        "From an existing Tensor:"
      ]
    },
    {
      "cell_type": "code",
      "metadata": {
        "id": "RLJ2Vsy5HRuf",
        "colab_type": "code",
        "colab": {
          "base_uri": "https://localhost:8080/",
          "height": 187
        },
        "outputId": "ec0ed3f1-5af3-44aa-d237-26816001135e"
      },
      "source": [
        "x = x.new_ones(5, 3, dtype=torch.double)\n",
        "print(x)\n",
        "\n",
        "x = torch.randn_like(x, dtype=torch.float)\n",
        "print(x)"
      ],
      "execution_count": 6,
      "outputs": [
        {
          "output_type": "stream",
          "text": [
            "tensor([[1., 1., 1.],\n",
            "        [1., 1., 1.],\n",
            "        [1., 1., 1.],\n",
            "        [1., 1., 1.],\n",
            "        [1., 1., 1.]], dtype=torch.float64)\n",
            "tensor([[-0.8386,  0.1416, -2.0018],\n",
            "        [-0.7200, -0.9223, -0.8010],\n",
            "        [-1.3291,  1.8973,  0.5242],\n",
            "        [-1.3161, -0.4696, -1.7896],\n",
            "        [ 0.5718, -1.2506,  0.3185]])\n"
          ],
          "name": "stdout"
        }
      ]
    },
    {
      "cell_type": "markdown",
      "metadata": {
        "id": "UjYox7PRHoYd",
        "colab_type": "text"
      },
      "source": [
        "Get size:"
      ]
    },
    {
      "cell_type": "code",
      "metadata": {
        "id": "QaPz4YVHHw-t",
        "colab_type": "code",
        "colab": {
          "base_uri": "https://localhost:8080/",
          "height": 34
        },
        "outputId": "bfd004ae-9778-4a3d-93a8-45c017a116eb"
      },
      "source": [
        "print(x.size())"
      ],
      "execution_count": 7,
      "outputs": [
        {
          "output_type": "stream",
          "text": [
            "torch.Size([5, 3])\n"
          ],
          "name": "stdout"
        }
      ]
    },
    {
      "cell_type": "markdown",
      "metadata": {
        "id": "u42_92fCH25y",
        "colab_type": "text"
      },
      "source": [
        "Addition: torch"
      ]
    },
    {
      "cell_type": "code",
      "metadata": {
        "id": "yLG2D186H7_h",
        "colab_type": "code",
        "colab": {
          "base_uri": "https://localhost:8080/",
          "height": 102
        },
        "outputId": "f30b298d-9c28-4351-da03-a2e98f66c3bc"
      },
      "source": [
        "y = torch.rand(5, 3)\n",
        "print(torch.add(x, y))"
      ],
      "execution_count": 8,
      "outputs": [
        {
          "output_type": "stream",
          "text": [
            "tensor([[-0.4780,  0.9001, -1.5283],\n",
            "        [ 0.1831, -0.5248, -0.4339],\n",
            "        [-1.1220,  2.2831,  1.3851],\n",
            "        [-0.9937,  0.5042, -0.7977],\n",
            "        [ 0.6612, -0.3228,  1.2771]])\n"
          ],
          "name": "stdout"
        }
      ]
    },
    {
      "cell_type": "markdown",
      "metadata": {
        "id": "EypmbtdsIV2Q",
        "colab_type": "text"
      },
      "source": [
        "Addition: output to tensor"
      ]
    },
    {
      "cell_type": "code",
      "metadata": {
        "id": "3xZiO2tvIjB_",
        "colab_type": "code",
        "colab": {
          "base_uri": "https://localhost:8080/",
          "height": 102
        },
        "outputId": "3307289d-0de6-4983-abf3-90b94edc409b"
      },
      "source": [
        "result = torch.empty(5, 3)\n",
        "torch.add(x, y, out=result)\n",
        "print(result)"
      ],
      "execution_count": 9,
      "outputs": [
        {
          "output_type": "stream",
          "text": [
            "tensor([[-0.4780,  0.9001, -1.5283],\n",
            "        [ 0.1831, -0.5248, -0.4339],\n",
            "        [-1.1220,  2.2831,  1.3851],\n",
            "        [-0.9937,  0.5042, -0.7977],\n",
            "        [ 0.6612, -0.3228,  1.2771]])\n"
          ],
          "name": "stdout"
        }
      ]
    },
    {
      "cell_type": "markdown",
      "metadata": {
        "id": "ws5WBRXGIr6u",
        "colab_type": "text"
      },
      "source": [
        "Addition: in place"
      ]
    },
    {
      "cell_type": "code",
      "metadata": {
        "id": "8S9GSPnNItxM",
        "colab_type": "code",
        "colab": {
          "base_uri": "https://localhost:8080/",
          "height": 102
        },
        "outputId": "e484d71e-9f28-4dab-90e6-50dca92cad5c"
      },
      "source": [
        "y.add(x)\n",
        "print(x)"
      ],
      "execution_count": 10,
      "outputs": [
        {
          "output_type": "stream",
          "text": [
            "tensor([[-0.8386,  0.1416, -2.0018],\n",
            "        [-0.7200, -0.9223, -0.8010],\n",
            "        [-1.3291,  1.8973,  0.5242],\n",
            "        [-1.3161, -0.4696, -1.7896],\n",
            "        [ 0.5718, -1.2506,  0.3185]])\n"
          ],
          "name": "stdout"
        }
      ]
    },
    {
      "cell_type": "markdown",
      "metadata": {
        "id": "b9dETat4JAtj",
        "colab_type": "text"
      },
      "source": [
        "Resizing tensors:"
      ]
    },
    {
      "cell_type": "code",
      "metadata": {
        "id": "kE7VM2enJDOR",
        "colab_type": "code",
        "colab": {
          "base_uri": "https://localhost:8080/",
          "height": 34
        },
        "outputId": "7655458b-febf-44bc-e128-e55abb363c40"
      },
      "source": [
        "x = torch.randn(4, 4)\n",
        "y = x.view(16)\n",
        "z = x.view(-1, 8)  # the size -1 is inferred from other dimensions\n",
        "print(x.size(), y.size(), z.size())"
      ],
      "execution_count": 11,
      "outputs": [
        {
          "output_type": "stream",
          "text": [
            "torch.Size([4, 4]) torch.Size([16]) torch.Size([2, 8])\n"
          ],
          "name": "stdout"
        }
      ]
    },
    {
      "cell_type": "markdown",
      "metadata": {
        "id": "DyecfI5PJq5D",
        "colab_type": "text"
      },
      "source": [
        "NumPy Array to Torch Tensor:"
      ]
    },
    {
      "cell_type": "code",
      "metadata": {
        "id": "tiSfplPvJwiL",
        "colab_type": "code",
        "colab": {
          "base_uri": "https://localhost:8080/",
          "height": 51
        },
        "outputId": "21f837c6-de5e-49ad-dde3-bd00cbe761cb"
      },
      "source": [
        "import numpy as np\n",
        "a = np.ones(5)\n",
        "b = torch.from_numpy(a)\n",
        "np.add(a, 1, out=a)\n",
        "print(a)\n",
        "print(b)"
      ],
      "execution_count": 12,
      "outputs": [
        {
          "output_type": "stream",
          "text": [
            "[2. 2. 2. 2. 2.]\n",
            "tensor([2., 2., 2., 2., 2.], dtype=torch.float64)\n"
          ],
          "name": "stdout"
        }
      ]
    },
    {
      "cell_type": "markdown",
      "metadata": {
        "id": "wquLvJLXKBgd",
        "colab_type": "text"
      },
      "source": [
        "### CUDA Tensors"
      ]
    },
    {
      "cell_type": "markdown",
      "metadata": {
        "id": "hTQzwivJKLDa",
        "colab_type": "text"
      },
      "source": [
        "Tensors can be moved using the .to method:"
      ]
    },
    {
      "cell_type": "code",
      "metadata": {
        "id": "6ELC-aD-KYb3",
        "colab_type": "code",
        "colab": {}
      },
      "source": [
        "# let us run this cell only if CUDA is available\n",
        "# We will use ``torch.device`` objects to move tensors in and out of GPU\n",
        "if torch.cuda.is_available():\n",
        "    device = torch.device(\"cuda\")          # a CUDA device object\n",
        "    y = torch.ones_like(x, device=device)  # directly create a tensor on GPU\n",
        "    x = x.to(device)                       # or just use strings ``.to(\"cuda\")``\n",
        "    z = x + y\n",
        "    print(z)\n",
        "    print(z.to(\"cpu\", torch.double))       # ``.to`` can also change dtype together!\n"
      ],
      "execution_count": 13,
      "outputs": []
    }
  ]
}